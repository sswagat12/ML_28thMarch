{
 "cells": [
  {
   "cell_type": "markdown",
   "metadata": {},
   "source": [
    "Question 1.1:  Write a Python Program to implement your own myreduce() function which works exactly like Python's built-in function reduce() "
   ]
  },
  {
   "cell_type": "code",
   "execution_count": 32,
   "metadata": {},
   "outputs": [
    {
     "name": "stdout",
     "output_type": "stream",
     "text": [
      "Result from reduce: 48\n",
      "Result from myreduce:48\n"
     ]
    }
   ],
   "source": [
    "\"\"\"Example of reduce\"\"\"\n",
    "def prod(x1, x2):\n",
    "    return x1 * x2\n",
    "from functools import reduce \n",
    "print(f'Result from reduce: {reduce(prod, [1, 2, 3, 4], 2)}')\n",
    "\n",
    "\n",
    "\"\"\"Customising our own reduce function\"\"\"\n",
    "def myreduce(func, iter, initial=None):\n",
    "    '''\n",
    "    myreduce() is similar to reduce() function of functools module of Python\n",
    "    func --> Function \n",
    "    iter --> Any iterable\n",
    "    initial --> When passed, we can consider it as the first element of the iterable object\n",
    "    '''\n",
    "    if initial is not None:\n",
    "        result = initial\n",
    "        for each_item in iter:\n",
    "            result = func(result,each_item)\n",
    "        return result\n",
    "    else:\n",
    "        result = iter[0]\n",
    "        for each_item in iter[1:]:\n",
    "            result = func(result,each_item)\n",
    "        return result\n",
    "\n",
    "    \n",
    "print(f'Result from myreduce:{myreduce(prod, [1, 2, 3, 4],2)}')"
   ]
  },
  {
   "cell_type": "markdown",
   "metadata": {},
   "source": [
    "Question 1.2: Write a Python program to implement your own myfilter() function which works exactly\n",
    "like Python's built-in function filter()"
   ]
  },
  {
   "cell_type": "code",
   "execution_count": 37,
   "metadata": {},
   "outputs": [
    {
     "name": "stdout",
     "output_type": "stream",
     "text": [
      "Result from filter: [14, 16, 13.5, 22, 48, 23]\n",
      "Result from customised myfilter : [14, 16, 13.5, 22, 48, 23]\n"
     ]
    }
   ],
   "source": [
    "\"\"\"Example of filter\"\"\"\n",
    "my_offers = [12,14,16,13.5,22,48,23,13]\n",
    "def shortlist(x):\n",
    "    return x > 13\n",
    "print(f'Result from filter: {list(filter(shortlist,my_offers))}')\n",
    "\n",
    "\"\"\"Customised myfilter function\"\"\"\n",
    "\n",
    "def myfilter(func, iter):\n",
    "    \"\"\"myfilter-->Our customised filter\n",
    "       func --> Function\n",
    "       iter--> Any iterable\"\"\"\n",
    "    shortlisted = list()\n",
    "    for each in iter:\n",
    "        if func(each):\n",
    "            shortlisted.append(each)\n",
    "    return shortlisted\n",
    "\n",
    "print(f'Result from customised myfilter : {myfilter(shortlist, my_offers)}')\n",
    "    \n",
    "\n"
   ]
  },
  {
   "cell_type": "markdown",
   "metadata": {},
   "source": [
    "Question 2: Implement List comprehensions to produce the following lists. Write List comprehensions to produce the following Lists"
   ]
  },
  {
   "cell_type": "markdown",
   "metadata": {},
   "source": [
    "Question {a} ['x', 'xx', 'xxx', 'xxxx', 'y', 'yy', 'yyy', 'yyyy', 'z', 'zz', 'zzz', 'zzzz']"
   ]
  },
  {
   "cell_type": "code",
   "execution_count": 39,
   "metadata": {},
   "outputs": [
    {
     "name": "stdout",
     "output_type": "stream",
     "text": [
      "['x', 'xx', 'xxx', 'xxxx', 'y', 'yy', 'yyy', 'yyyy', 'z', 'zz', 'zzz', 'zzzz']\n"
     ]
    }
   ],
   "source": [
    "inputList = ['x','y','z']\n",
    "listOp = [each*num for each in inputList for num in range(1,5)]\n",
    "print(listOp)"
   ]
  },
  {
   "cell_type": "markdown",
   "metadata": {},
   "source": [
    "Question {b} ['x', 'y', 'z', 'xx', 'yy', 'zz', 'xxx', 'yyy', 'zzz', 'xxxx', 'yyyy', 'zzzz']"
   ]
  },
  {
   "cell_type": "code",
   "execution_count": 46,
   "metadata": {},
   "outputs": [
    {
     "name": "stdout",
     "output_type": "stream",
     "text": [
      "['x', 'y', 'z', 'xx', 'yy', 'zz', 'xxx', 'yyy', 'zzz', 'xxxx', 'yyyy', 'zzzz']\n"
     ]
    }
   ],
   "source": [
    "inputList = ['x','y','z']\n",
    "listOp = [each*num for num in range(1,5) for each in inputList]\n",
    "print(listOp)\n"
   ]
  },
  {
   "cell_type": "markdown",
   "metadata": {},
   "source": [
    "Question {c}: [[2], [3], [4], [3], [4], [5], [4], [5], [6]] "
   ]
  },
  {
   "cell_type": "code",
   "execution_count": 51,
   "metadata": {},
   "outputs": [
    {
     "name": "stdout",
     "output_type": "stream",
     "text": [
      "[[2], [3], [4], [3], [4], [5], [4], [5], [6]]\n"
     ]
    }
   ],
   "source": [
    "ipList = [2,3,4]\n",
    "listOp = [[num+i] for num in ipList for i in range(0,3)]\n",
    "print(listOp)"
   ]
  },
  {
   "cell_type": "markdown",
   "metadata": {},
   "source": [
    "Question {d}: [[2, 3, 4, 5], [3, 4, 5, 6],\n",
    "[4, 5, 6, 7], [5, 6, 7, 8]]"
   ]
  },
  {
   "cell_type": "code",
   "execution_count": 55,
   "metadata": {},
   "outputs": [
    {
     "name": "stdout",
     "output_type": "stream",
     "text": [
      "[[2, 3, 4, 5], [3, 4, 5, 6], [4, 5, 6, 7], [5, 6, 7, 8]]\n"
     ]
    }
   ],
   "source": [
    "ipList = [2,3,4,5]\n",
    "listOp = [[num+i for i in range(0,4)] for num in ipList]\n",
    "print(listOp)"
   ]
  },
  {
   "cell_type": "markdown",
   "metadata": {},
   "source": [
    "Question {e} [(1, 1), (2, 1), (3, 1), (1, 2), (2, 2), (3, 2), (1, 3), (2, 3), (3, 3)]"
   ]
  },
  {
   "cell_type": "code",
   "execution_count": 58,
   "metadata": {},
   "outputs": [
    {
     "name": "stdout",
     "output_type": "stream",
     "text": [
      "[(1, 1), (2, 1), (3, 1), (1, 2), (2, 2), (3, 2), (1, 3), (2, 3), (3, 3)]\n"
     ]
    }
   ],
   "source": [
    "customList = [(a,b) for b in range(1,4) for a in range(1,4)]\n",
    "print(ipList)"
   ]
  },
  {
   "cell_type": "code",
   "execution_count": null,
   "metadata": {},
   "outputs": [],
   "source": []
  }
 ],
 "metadata": {
  "kernelspec": {
   "display_name": "Python 3",
   "language": "python",
   "name": "python3"
  },
  "language_info": {
   "codemirror_mode": {
    "name": "ipython",
    "version": 3
   },
   "file_extension": ".py",
   "mimetype": "text/x-python",
   "name": "python",
   "nbconvert_exporter": "python",
   "pygments_lexer": "ipython3",
   "version": "3.7.6"
  }
 },
 "nbformat": 4,
 "nbformat_minor": 4
}
